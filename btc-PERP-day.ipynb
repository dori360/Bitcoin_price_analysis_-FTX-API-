{
 "cells": [
  {
   "cell_type": "code",
   "execution_count": 3,
   "id": "afc84670",
   "metadata": {},
   "outputs": [
    {
     "ename": "JSONDecodeError",
     "evalue": "[Errno Expecting value] <!DOCTYPE html>\n<html lang=\"en-US\">\n<head>\n<title>Access denied</title>\n<meta http-equiv=\"X-UA-Compatible\" content=\"IE=Edge\" />\n<meta name=\"robots\" content=\"noindex, nofollow\" />\n<meta name=\"viewport\" content=\"width=device-width,initial-scale=1\" />\n<link rel=\"stylesheet\" href=\"/cdn-cgi/styles/errors.css\" media=\"screen\" />\n<script>\n(function(){if(document.addEventListener&&window.XMLHttpRequest&&JSON&&JSON.stringify){var e=function(a){var c=document.getElementById(\"error-feedback-survey\"),d=document.getElementById(\"error-feedback-success\"),b=new XMLHttpRequest;a={event:\"feedback clicked\",properties:{errorCode:1020,helpful:a,version:4}};b.open(\"POST\",\"https://sparrow.cloudflare.com/api/v1/event\");b.setRequestHeader(\"Content-Type\",\"application/json\");b.setRequestHeader(\"Sparrow-Source-Key\",\"c771f0e4b54944bebf4261d44bd79a1e\");\nb.send(JSON.stringify(a));c.classList.add(\"feedback-hidden\");d.classList.remove(\"feedback-hidden\")};document.addEventListener(\"DOMContentLoaded\",function(){var a=document.getElementById(\"error-feedback\"),c=document.getElementById(\"feedback-button-yes\"),d=document.getElementById(\"feedback-button-no\");\"classList\"in a&&(a.classList.remove(\"feedback-hidden\"),c.addEventListener(\"click\",function(){e(!0)}),d.addEventListener(\"click\",function(){e(!1)}))})}})();\n</script>\n<script>\n         (function(){if(document.addEventListener){var c=function(){var b=document.getElementById(\"copy-label\");document.getElementById(\"plain-ray-id\");if(navigator.clipboard)navigator.clipboard.writeText(\"77157482a8607ac3\");else{var a=document.createElement(\"textarea\");a.value=\"77157482a8607ac3\";a.style.top=\"0\";a.style.left=\"0\";a.style.position=\"fixed\";document.body.appendChild(a);a.focus();a.select();document.execCommand(\"copy\");document.body.removeChild(a)}b.innerText=\"Copied\"};document.addEventListener(\"DOMContentLoaded\",\nfunction(){var b=document.getElementById(\"plain-ray-id\"),a=document.getElementById(\"click-to-copy-btn\");\"classList\"in b&&(b.classList.add(\"hidden\"),a.classList.remove(\"hidden\"),a.addEventListener(\"click\",c))})}})();\n      </script>\n<script defer src=\"https://performance.radar.cloudflare.com/beacon.js\"></script>\n</head>\n<body>\n<div class=\"main-wrapper\" role=\"main\">\n<div class=\"header section\">\n<h1>\n<span class=\"error-description\">Access denied</span>\n<span class=\"code-label\">Error code <span>1020</span></span>\n</h1>\n<div class=\"large-font\">\n<p>You cannot access ftx.com. Refresh the page or contact the site owner to request access.</p>\n</div>\n</div>\n</div>\n<div>\n<div class=\"section know-more\">\n<h2 class=\"large-font\">Troubleshooting information</h2>\n<p>Copy and paste the Ray ID when you contact the site owner.</p>\n<p class=\"ray-id-wrapper\">\nRay ID:\n<span class=\"plain-ray-id\" id=\"plain-ray-id\">\n77157482a8607ac3\n</span>\n<button class=\"click-to-copy-btn hidden\" id=\"click-to-copy-btn\" title=\"Click to copy Ray ID\" type=\"button\">\n<span class=\"ray-id\">77157482a8607ac3</span><span class=\"copy-label\" id=\"copy-label\">Copy</span>\n</button>\n</p>\n<p>\nFor help visit <a rel=\"noopener noreferrer\" href=\"https://support.cloudflare.com/hc/articles/360029779472-Troubleshooting-Cloudflare-1XXX-errors?utm_source=1020_error#error1020\" target=\"_blank\">Troubleshooting guide</a>\n<img class=\"external-link\" title=\"Opens in new tab\" src=\"/cdn-cgi/images/external.png\" alt=\"External link\">\n</p>\n</div>\n<div class=\"clearfix footer section\" role=\"contentinfo\">\n<div class=\"column\">\n<div class=\"feedback-hidden py-8 text-center\" id=\"error-feedback\">\n<div id=\"error-feedback-survey\" class=\"footer-line-wrapper\">\nWas this page helpful?\n<button class=\"border border-solid bg-white cf-button cursor-pointer ml-4 px-4 py-2 rounded\" id=\"feedback-button-yes\" type=\"button\">Yes</button>\n<button class=\"border border-solid bg-white cf-button cursor-pointer ml-4 px-4 py-2 rounded\" id=\"feedback-button-no\" type=\"button\">No</button>\n</div>\n<div class=\"feedback-success feedback-hidden\" id=\"error-feedback-success\">\nThank you for your feedback!\n</div>\n</div>\n</div>\n<div class=\"column footer-line-wrapper text-center\">\nPerformance &amp; security by <a rel=\"noopener noreferrer\" href=\"https://www.cloudflare.com?utm_source=1020_error\" target=\"_blank\">Cloudflare</a>\n<img class=\"external-link\" title=\"Opens in new tab\" src=\"/cdn-cgi/images/external.png\" alt=\"External link\">\n</div>\n</div>\n</div>\n<script defer src=\"https://static.cloudflareinsights.com/beacon.min.js/vaafb692b2aea4879b33c060e79fe94621666317369993\" integrity=\"sha512-0ahDYl866UMhKuYcW078ScMalXqtFJggm7TmlUtp0UlD4eQk0Ixfnm5ykXKvGJNFjLMoortdseTfsRT8oCfgGA==\" data-cf-beacon='{\"rayId\":\"77157482a8607ac3\",\"token\":\"7a17a4f473fb4f15a21c9ed7ec04e38d\",\"version\":\"2022.11.3\",\"si\":100}' crossorigin=\"anonymous\"></script>\n</body>\n</html>\n: 0",
     "output_type": "error",
     "traceback": [
      "\u001b[0;31m---------------------------------------------------------------------------\u001b[0m",
      "\u001b[0;31mJSONDecodeError\u001b[0m                           Traceback (most recent call last)",
      "File \u001b[0;32m~/Downloads/computer_science/projects/python/venv/miniforge/lib/python3.8/site-packages/requests/models.py:910\u001b[0m, in \u001b[0;36mResponse.json\u001b[0;34m(self, **kwargs)\u001b[0m\n\u001b[1;32m    909\u001b[0m \u001b[38;5;28;01mtry\u001b[39;00m:\n\u001b[0;32m--> 910\u001b[0m     \u001b[38;5;28;01mreturn\u001b[39;00m \u001b[43mcomplexjson\u001b[49m\u001b[38;5;241;43m.\u001b[39;49m\u001b[43mloads\u001b[49m\u001b[43m(\u001b[49m\u001b[38;5;28;43mself\u001b[39;49m\u001b[38;5;241;43m.\u001b[39;49m\u001b[43mtext\u001b[49m\u001b[43m,\u001b[49m\u001b[43m \u001b[49m\u001b[38;5;241;43m*\u001b[39;49m\u001b[38;5;241;43m*\u001b[39;49m\u001b[43mkwargs\u001b[49m\u001b[43m)\u001b[49m\n\u001b[1;32m    911\u001b[0m \u001b[38;5;28;01mexcept\u001b[39;00m JSONDecodeError \u001b[38;5;28;01mas\u001b[39;00m e:\n\u001b[1;32m    912\u001b[0m     \u001b[38;5;66;03m# Catch JSON-related errors and raise as requests.JSONDecodeError\u001b[39;00m\n\u001b[1;32m    913\u001b[0m     \u001b[38;5;66;03m# This aliases json.JSONDecodeError and simplejson.JSONDecodeError\u001b[39;00m\n",
      "File \u001b[0;32m~/Downloads/computer_science/projects/python/venv/miniforge/lib/python3.8/json/__init__.py:357\u001b[0m, in \u001b[0;36mloads\u001b[0;34m(s, cls, object_hook, parse_float, parse_int, parse_constant, object_pairs_hook, **kw)\u001b[0m\n\u001b[1;32m    354\u001b[0m \u001b[38;5;28;01mif\u001b[39;00m (\u001b[38;5;28mcls\u001b[39m \u001b[38;5;129;01mis\u001b[39;00m \u001b[38;5;28;01mNone\u001b[39;00m \u001b[38;5;129;01mand\u001b[39;00m object_hook \u001b[38;5;129;01mis\u001b[39;00m \u001b[38;5;28;01mNone\u001b[39;00m \u001b[38;5;129;01mand\u001b[39;00m\n\u001b[1;32m    355\u001b[0m         parse_int \u001b[38;5;129;01mis\u001b[39;00m \u001b[38;5;28;01mNone\u001b[39;00m \u001b[38;5;129;01mand\u001b[39;00m parse_float \u001b[38;5;129;01mis\u001b[39;00m \u001b[38;5;28;01mNone\u001b[39;00m \u001b[38;5;129;01mand\u001b[39;00m\n\u001b[1;32m    356\u001b[0m         parse_constant \u001b[38;5;129;01mis\u001b[39;00m \u001b[38;5;28;01mNone\u001b[39;00m \u001b[38;5;129;01mand\u001b[39;00m object_pairs_hook \u001b[38;5;129;01mis\u001b[39;00m \u001b[38;5;28;01mNone\u001b[39;00m \u001b[38;5;129;01mand\u001b[39;00m \u001b[38;5;129;01mnot\u001b[39;00m kw):\n\u001b[0;32m--> 357\u001b[0m     \u001b[38;5;28;01mreturn\u001b[39;00m \u001b[43m_default_decoder\u001b[49m\u001b[38;5;241;43m.\u001b[39;49m\u001b[43mdecode\u001b[49m\u001b[43m(\u001b[49m\u001b[43ms\u001b[49m\u001b[43m)\u001b[49m\n\u001b[1;32m    358\u001b[0m \u001b[38;5;28;01mif\u001b[39;00m \u001b[38;5;28mcls\u001b[39m \u001b[38;5;129;01mis\u001b[39;00m \u001b[38;5;28;01mNone\u001b[39;00m:\n",
      "File \u001b[0;32m~/Downloads/computer_science/projects/python/venv/miniforge/lib/python3.8/json/decoder.py:337\u001b[0m, in \u001b[0;36mJSONDecoder.decode\u001b[0;34m(self, s, _w)\u001b[0m\n\u001b[1;32m    333\u001b[0m \u001b[38;5;124;03m\"\"\"Return the Python representation of ``s`` (a ``str`` instance\u001b[39;00m\n\u001b[1;32m    334\u001b[0m \u001b[38;5;124;03mcontaining a JSON document).\u001b[39;00m\n\u001b[1;32m    335\u001b[0m \n\u001b[1;32m    336\u001b[0m \u001b[38;5;124;03m\"\"\"\u001b[39;00m\n\u001b[0;32m--> 337\u001b[0m obj, end \u001b[38;5;241m=\u001b[39m \u001b[38;5;28;43mself\u001b[39;49m\u001b[38;5;241;43m.\u001b[39;49m\u001b[43mraw_decode\u001b[49m\u001b[43m(\u001b[49m\u001b[43ms\u001b[49m\u001b[43m,\u001b[49m\u001b[43m \u001b[49m\u001b[43midx\u001b[49m\u001b[38;5;241;43m=\u001b[39;49m\u001b[43m_w\u001b[49m\u001b[43m(\u001b[49m\u001b[43ms\u001b[49m\u001b[43m,\u001b[49m\u001b[43m \u001b[49m\u001b[38;5;241;43m0\u001b[39;49m\u001b[43m)\u001b[49m\u001b[38;5;241;43m.\u001b[39;49m\u001b[43mend\u001b[49m\u001b[43m(\u001b[49m\u001b[43m)\u001b[49m\u001b[43m)\u001b[49m\n\u001b[1;32m    338\u001b[0m end \u001b[38;5;241m=\u001b[39m _w(s, end)\u001b[38;5;241m.\u001b[39mend()\n",
      "File \u001b[0;32m~/Downloads/computer_science/projects/python/venv/miniforge/lib/python3.8/json/decoder.py:355\u001b[0m, in \u001b[0;36mJSONDecoder.raw_decode\u001b[0;34m(self, s, idx)\u001b[0m\n\u001b[1;32m    354\u001b[0m \u001b[38;5;28;01mexcept\u001b[39;00m \u001b[38;5;167;01mStopIteration\u001b[39;00m \u001b[38;5;28;01mas\u001b[39;00m err:\n\u001b[0;32m--> 355\u001b[0m     \u001b[38;5;28;01mraise\u001b[39;00m JSONDecodeError(\u001b[38;5;124m\"\u001b[39m\u001b[38;5;124mExpecting value\u001b[39m\u001b[38;5;124m\"\u001b[39m, s, err\u001b[38;5;241m.\u001b[39mvalue) \u001b[38;5;28;01mfrom\u001b[39;00m \u001b[38;5;28mNone\u001b[39m\n\u001b[1;32m    356\u001b[0m \u001b[38;5;28;01mreturn\u001b[39;00m obj, end\n",
      "\u001b[0;31mJSONDecodeError\u001b[0m: Expecting value: line 1 column 1 (char 0)",
      "\nDuring handling of the above exception, another exception occurred:\n",
      "\u001b[0;31mJSONDecodeError\u001b[0m                           Traceback (most recent call last)",
      "Input \u001b[0;32mIn [3]\u001b[0m, in \u001b[0;36m<cell line: 9>\u001b[0;34m()\u001b[0m\n\u001b[1;32m      6\u001b[0m pd\u001b[38;5;241m.\u001b[39mset_option(\u001b[38;5;124m\"\u001b[39m\u001b[38;5;124mdisplay.precision\u001b[39m\u001b[38;5;124m\"\u001b[39m, \u001b[38;5;241m15\u001b[39m)\n\u001b[1;32m      7\u001b[0m \u001b[38;5;66;03m#df.index.name='Index1' = to give index a name \u001b[39;00m\n\u001b[1;32m      8\u001b[0m \u001b[38;5;66;03m#/markets/GMT-PERP/candles?resolution={resolution}&start_time={start_time}&end_time={end_time}\u001b[39;00m\n\u001b[0;32m----> 9\u001b[0m market \u001b[38;5;241m=\u001b[39m \u001b[43mrequests\u001b[49m\u001b[38;5;241;43m.\u001b[39;49m\u001b[43mget\u001b[49m\u001b[43m(\u001b[49m\u001b[38;5;124;43m'\u001b[39;49m\u001b[38;5;124;43mhttps://ftx.com/api/markets/BTC-PERP/candles?resolution=86400&start_time=1649116800&end_time=1655683200\u001b[39;49m\u001b[38;5;124;43m'\u001b[39;49m\u001b[43m)\u001b[49m\u001b[38;5;241;43m.\u001b[39;49m\u001b[43mjson\u001b[49m\u001b[43m(\u001b[49m\u001b[43m)\u001b[49m\n\u001b[1;32m     10\u001b[0m df \u001b[38;5;241m=\u001b[39m pd\u001b[38;5;241m.\u001b[39mDataFrame(market[\u001b[38;5;124m'\u001b[39m\u001b[38;5;124mresult\u001b[39m\u001b[38;5;124m'\u001b[39m])\n\u001b[1;32m     11\u001b[0m \u001b[38;5;66;03m#DataFrame.to_csv() to export to csv file \u001b[39;00m\n",
      "File \u001b[0;32m~/Downloads/computer_science/projects/python/venv/miniforge/lib/python3.8/site-packages/requests/models.py:917\u001b[0m, in \u001b[0;36mResponse.json\u001b[0;34m(self, **kwargs)\u001b[0m\n\u001b[1;32m    915\u001b[0m     \u001b[38;5;28;01mraise\u001b[39;00m RequestsJSONDecodeError(e\u001b[38;5;241m.\u001b[39mmessage)\n\u001b[1;32m    916\u001b[0m \u001b[38;5;28;01melse\u001b[39;00m:\n\u001b[0;32m--> 917\u001b[0m     \u001b[38;5;28;01mraise\u001b[39;00m RequestsJSONDecodeError(e\u001b[38;5;241m.\u001b[39mmsg, e\u001b[38;5;241m.\u001b[39mdoc, e\u001b[38;5;241m.\u001b[39mpos)\n",
      "\u001b[0;31mJSONDecodeError\u001b[0m: [Errno Expecting value] <!DOCTYPE html>\n<html lang=\"en-US\">\n<head>\n<title>Access denied</title>\n<meta http-equiv=\"X-UA-Compatible\" content=\"IE=Edge\" />\n<meta name=\"robots\" content=\"noindex, nofollow\" />\n<meta name=\"viewport\" content=\"width=device-width,initial-scale=1\" />\n<link rel=\"stylesheet\" href=\"/cdn-cgi/styles/errors.css\" media=\"screen\" />\n<script>\n(function(){if(document.addEventListener&&window.XMLHttpRequest&&JSON&&JSON.stringify){var e=function(a){var c=document.getElementById(\"error-feedback-survey\"),d=document.getElementById(\"error-feedback-success\"),b=new XMLHttpRequest;a={event:\"feedback clicked\",properties:{errorCode:1020,helpful:a,version:4}};b.open(\"POST\",\"https://sparrow.cloudflare.com/api/v1/event\");b.setRequestHeader(\"Content-Type\",\"application/json\");b.setRequestHeader(\"Sparrow-Source-Key\",\"c771f0e4b54944bebf4261d44bd79a1e\");\nb.send(JSON.stringify(a));c.classList.add(\"feedback-hidden\");d.classList.remove(\"feedback-hidden\")};document.addEventListener(\"DOMContentLoaded\",function(){var a=document.getElementById(\"error-feedback\"),c=document.getElementById(\"feedback-button-yes\"),d=document.getElementById(\"feedback-button-no\");\"classList\"in a&&(a.classList.remove(\"feedback-hidden\"),c.addEventListener(\"click\",function(){e(!0)}),d.addEventListener(\"click\",function(){e(!1)}))})}})();\n</script>\n<script>\n         (function(){if(document.addEventListener){var c=function(){var b=document.getElementById(\"copy-label\");document.getElementById(\"plain-ray-id\");if(navigator.clipboard)navigator.clipboard.writeText(\"77157482a8607ac3\");else{var a=document.createElement(\"textarea\");a.value=\"77157482a8607ac3\";a.style.top=\"0\";a.style.left=\"0\";a.style.position=\"fixed\";document.body.appendChild(a);a.focus();a.select();document.execCommand(\"copy\");document.body.removeChild(a)}b.innerText=\"Copied\"};document.addEventListener(\"DOMContentLoaded\",\nfunction(){var b=document.getElementById(\"plain-ray-id\"),a=document.getElementById(\"click-to-copy-btn\");\"classList\"in b&&(b.classList.add(\"hidden\"),a.classList.remove(\"hidden\"),a.addEventListener(\"click\",c))})}})();\n      </script>\n<script defer src=\"https://performance.radar.cloudflare.com/beacon.js\"></script>\n</head>\n<body>\n<div class=\"main-wrapper\" role=\"main\">\n<div class=\"header section\">\n<h1>\n<span class=\"error-description\">Access denied</span>\n<span class=\"code-label\">Error code <span>1020</span></span>\n</h1>\n<div class=\"large-font\">\n<p>You cannot access ftx.com. Refresh the page or contact the site owner to request access.</p>\n</div>\n</div>\n</div>\n<div>\n<div class=\"section know-more\">\n<h2 class=\"large-font\">Troubleshooting information</h2>\n<p>Copy and paste the Ray ID when you contact the site owner.</p>\n<p class=\"ray-id-wrapper\">\nRay ID:\n<span class=\"plain-ray-id\" id=\"plain-ray-id\">\n77157482a8607ac3\n</span>\n<button class=\"click-to-copy-btn hidden\" id=\"click-to-copy-btn\" title=\"Click to copy Ray ID\" type=\"button\">\n<span class=\"ray-id\">77157482a8607ac3</span><span class=\"copy-label\" id=\"copy-label\">Copy</span>\n</button>\n</p>\n<p>\nFor help visit <a rel=\"noopener noreferrer\" href=\"https://support.cloudflare.com/hc/articles/360029779472-Troubleshooting-Cloudflare-1XXX-errors?utm_source=1020_error#error1020\" target=\"_blank\">Troubleshooting guide</a>\n<img class=\"external-link\" title=\"Opens in new tab\" src=\"/cdn-cgi/images/external.png\" alt=\"External link\">\n</p>\n</div>\n<div class=\"clearfix footer section\" role=\"contentinfo\">\n<div class=\"column\">\n<div class=\"feedback-hidden py-8 text-center\" id=\"error-feedback\">\n<div id=\"error-feedback-survey\" class=\"footer-line-wrapper\">\nWas this page helpful?\n<button class=\"border border-solid bg-white cf-button cursor-pointer ml-4 px-4 py-2 rounded\" id=\"feedback-button-yes\" type=\"button\">Yes</button>\n<button class=\"border border-solid bg-white cf-button cursor-pointer ml-4 px-4 py-2 rounded\" id=\"feedback-button-no\" type=\"button\">No</button>\n</div>\n<div class=\"feedback-success feedback-hidden\" id=\"error-feedback-success\">\nThank you for your feedback!\n</div>\n</div>\n</div>\n<div class=\"column footer-line-wrapper text-center\">\nPerformance &amp; security by <a rel=\"noopener noreferrer\" href=\"https://www.cloudflare.com?utm_source=1020_error\" target=\"_blank\">Cloudflare</a>\n<img class=\"external-link\" title=\"Opens in new tab\" src=\"/cdn-cgi/images/external.png\" alt=\"External link\">\n</div>\n</div>\n</div>\n<script defer src=\"https://static.cloudflareinsights.com/beacon.min.js/vaafb692b2aea4879b33c060e79fe94621666317369993\" integrity=\"sha512-0ahDYl866UMhKuYcW078ScMalXqtFJggm7TmlUtp0UlD4eQk0Ixfnm5ykXKvGJNFjLMoortdseTfsRT8oCfgGA==\" data-cf-beacon='{\"rayId\":\"77157482a8607ac3\",\"token\":\"7a17a4f473fb4f15a21c9ed7ec04e38d\",\"version\":\"2022.11.3\",\"si\":100}' crossorigin=\"anonymous\"></script>\n</body>\n</html>\n: 0"
     ]
    }
   ],
   "source": [
    "import pandas as pd\n",
    "import numpy as np\n",
    "import requests\n",
    "import json\n",
    "# from 4/4/22 0:00 UTC to 6/20/22 0:00 UTC \n",
    "pd.set_option(\"display.precision\", 15)\n",
    "#df.index.name='Index1' = to give index a name \n",
    "#/markets/GMT-PERP/candles?resolution={resolution}&start_time={start_time}&end_time={end_time}\n",
    "market = requests.get('https://ftx.com/api/markets/BTC-PERP/candles?resolution=86400&start_time=1649116800&end_time=1655683200').json()\n",
    "df = pd.DataFrame(market['result'])\n",
    "#DataFrame.to_csv() to export to csv file \n",
    "some_variable = df.loc[0:50]\n",
    "print(some_variable)\n",
    "df"
   ]
  },
  {
   "cell_type": "code",
   "execution_count": null,
   "id": "fedfd3d6",
   "metadata": {},
   "outputs": [],
   "source": [
    "s = pd.date_range('2022-04-05', '2022-06-20', freq='D').to_series()\n",
    "s.dt.dayofweek\n",
    "weekDay = s.dt.dayofweek.tolist()\n",
    "print(weekDay)"
   ]
  },
  {
   "cell_type": "code",
   "execution_count": null,
   "id": "deafdddf",
   "metadata": {},
   "outputs": [],
   "source": [
    "df1 = pd.DataFrame({'week_of_day':weekDay, 'high':df['high']})\n",
    "print(df1)\n",
    "type(df1)"
   ]
  },
  {
   "cell_type": "markdown",
   "id": "325ade8a",
   "metadata": {},
   "source": []
  },
  {
   "cell_type": "code",
   "execution_count": 12,
   "id": "0c79fb76",
   "metadata": {},
   "outputs": [
    {
     "data": {
      "image/png": "[encoded data removed]",
      "text/plain": [
       "<Figure size 432x288 with 1 Axes>"
      ]
     },
     "metadata": {
      "needs_background": "light"
     },
     "output_type": "display_data"
    },
    {
     "name": "stdout",
     "output_type": "stream",
     "text": [
      "                              high\n",
      "week_of_day                       \n",
      "0            33775.181818181816197\n",
      "1            35451.545454545455868\n",
      "2            35273.727272727272066\n",
      "3            34878.181818181816197\n",
      "4            34168.454545454544132\n",
      "5            33432.454545454544132\n",
      "6            33562.545454545455868\n"
     ]
    }
   ],
   "source": [
    "# 1- high by day of week \n",
    "import matplotlib.pyplot as plt\n",
    "df1.groupby('week_of_day').mean().plot(kind='bar')\n",
    "plt.show()\n",
    "df1_mean_day = df1.groupby('week_of_day').mean()\n",
    "print(df1.groupby('week_of_day').mean())"
   ]
  },
  {
   "cell_type": "code",
   "execution_count": 13,
   "id": "252d54b9",
   "metadata": {},
   "outputs": [
    {
     "data": {
      "text/plain": [
       "high    35451.545454545455868\n",
       "Name: 1, dtype: float64"
      ]
     },
     "execution_count": 13,
     "metadata": {},
     "output_type": "execute_result"
    }
   ],
   "source": [
    "df1_mean_day.loc[df1_mean_day['high'].idxmax()]"
   ]
  },
  {
   "cell_type": "code",
   "execution_count": 14,
   "id": "2ff88e24",
   "metadata": {},
   "outputs": [
    {
     "data": {
      "text/plain": [
       "high    33432.454545454544132\n",
       "Name: 5, dtype: float64"
      ]
     },
     "execution_count": 14,
     "metadata": {},
     "output_type": "execute_result"
    }
   ],
   "source": [
    "df1_mean_day.loc[df1_mean_day['high'].idxmin()]"
   ]
  },
  {
   "cell_type": "code",
   "execution_count": 15,
   "id": "8978272f",
   "metadata": {},
   "outputs": [
    {
     "name": "stdout",
     "output_type": "stream",
     "text": [
      "    week_of_day      low\n",
      "0             1  45330.0\n",
      "1             2  43116.0\n",
      "2             3  42714.0\n",
      "3             4  42101.0\n",
      "4             5  42117.0\n",
      "..          ...      ...\n",
      "72            3  20188.0\n",
      "73            4  20202.0\n",
      "74            5  17578.0\n",
      "75            6  17924.0\n",
      "76            0  19612.0\n",
      "\n",
      "[77 rows x 2 columns]\n"
     ]
    }
   ],
   "source": [
    "# 2- low by day \n",
    "df2 = pd.DataFrame({'week_of_day':weekDay, 'low':df['low']})\n",
    "print(df2)"
   ]
  },
  {
   "cell_type": "code",
   "execution_count": 16,
   "id": "74764134",
   "metadata": {},
   "outputs": [
    {
     "data": {
      "image/png": "[encoded data removed]",
      "text/plain": [
       "<Figure size 432x288 with 1 Axes>"
      ]
     },
     "metadata": {
      "needs_background": "light"
     },
     "output_type": "display_data"
    },
    {
     "name": "stdout",
     "output_type": "stream",
     "text": [
      "                               low\n",
      "week_of_day                       \n",
      "0            31124.272727272727934\n",
      "1            33567.727272727272066\n",
      "2            33069.181818181816197\n",
      "3            32545.000000000000000\n",
      "4            32567.727272727272066\n",
      "5            32254.454545454544132\n",
      "6            32067.909090909091901\n"
     ]
    }
   ],
   "source": [
    "df2.groupby('week_of_day').mean().plot(kind='bar')\n",
    "plt.show()\n",
    "df2_mean_day = df2.groupby('week_of_day').mean()\n",
    "print(df2.groupby('week_of_day').mean())"
   ]
  },
  {
   "cell_type": "code",
   "execution_count": 17,
   "id": "3916cd06",
   "metadata": {},
   "outputs": [
    {
     "data": {
      "text/plain": [
       "low    33567.727272727272066\n",
       "Name: 1, dtype: float64"
      ]
     },
     "execution_count": 17,
     "metadata": {},
     "output_type": "execute_result"
    }
   ],
   "source": [
    "df2_mean_day.loc[df2_mean_day['low'].idxmax()]"
   ]
  },
  {
   "cell_type": "code",
   "execution_count": 18,
   "id": "0d43158b",
   "metadata": {},
   "outputs": [
    {
     "data": {
      "text/plain": [
       "low    31124.272727272727934\n",
       "Name: 0, dtype: float64"
      ]
     },
     "execution_count": 18,
     "metadata": {},
     "output_type": "execute_result"
    }
   ],
   "source": [
    "df2_mean_day.loc[df2_mean_day['low'].idxmin()]"
   ]
  },
  {
   "cell_type": "code",
   "execution_count": 19,
   "id": "2d11ad1d",
   "metadata": {},
   "outputs": [
    {
     "name": "stdout",
     "output_type": "stream",
     "text": [
      "    week_of_day     open\n",
      "0             1  46613.0\n",
      "1             2  45504.0\n",
      "2             3  43166.0\n",
      "3             4  43420.0\n",
      "4             5  42258.0\n",
      "..          ...      ...\n",
      "72            3  22550.0\n",
      "73            4  20358.0\n",
      "74            5  20435.0\n",
      "75            6  18941.0\n",
      "76            0  20535.0\n",
      "\n",
      "[77 rows x 2 columns]\n"
     ]
    }
   ],
   "source": [
    "# 3 -open \n",
    "df3 = pd.DataFrame({'week_of_day':weekDay, 'open':df['open']})\n",
    "print(df3)"
   ]
  },
  {
   "cell_type": "code",
   "execution_count": 20,
   "id": "df1b3455",
   "metadata": {},
   "outputs": [
    {
     "data": {
      "image/png": "[encoded data removed]",
      "text/plain": [
       "<Figure size 432x288 with 1 Axes>"
      ]
     },
     "metadata": {
      "needs_background": "light"
     },
     "output_type": "display_data"
    },
    {
     "name": "stdout",
     "output_type": "stream",
     "text": [
      "                              open\n",
      "week_of_day                       \n",
      "0            32887.727272727272066\n",
      "1            34585.090909090911737\n",
      "2            34450.727272727272066\n",
      "3            34032.363636363639671\n",
      "4            33584.727272727272066\n",
      "5            33024.636363636360329\n",
      "6            32848.454545454544132\n"
     ]
    }
   ],
   "source": [
    "df3.groupby('week_of_day').mean().plot(kind='bar')\n",
    "plt.show()\n",
    "df3_mean_day = df3.groupby('week_of_day').mean()\n",
    "print(df3.groupby('week_of_day').mean())"
   ]
  },
  {
   "cell_type": "code",
   "execution_count": 21,
   "id": "54902f1a",
   "metadata": {},
   "outputs": [
    {
     "data": {
      "text/plain": [
       "open    34585.090909090911737\n",
       "Name: 1, dtype: float64"
      ]
     },
     "execution_count": 21,
     "metadata": {},
     "output_type": "execute_result"
    }
   ],
   "source": [
    "df3_mean_day.loc[df3_mean_day['open'].idxmax()]"
   ]
  },
  {
   "cell_type": "code",
   "execution_count": 22,
   "id": "5a2f2db2",
   "metadata": {},
   "outputs": [
    {
     "data": {
      "text/plain": [
       "open    32848.454545454544132\n",
       "Name: 6, dtype: float64"
      ]
     },
     "execution_count": 22,
     "metadata": {},
     "output_type": "execute_result"
    }
   ],
   "source": [
    "df3_mean_day.loc[df3_mean_day['open'].idxmin()]"
   ]
  },
  {
   "cell_type": "code",
   "execution_count": 23,
   "id": "82db1ad9",
   "metadata": {},
   "outputs": [
    {
     "name": "stdout",
     "output_type": "stream",
     "text": [
      "    week_of_day    close\n",
      "0             1  45504.0\n",
      "1             2  43166.0\n",
      "2             3  43420.0\n",
      "3             4  42258.0\n",
      "4             5  42754.0\n",
      "..          ...      ...\n",
      "72            3  20358.0\n",
      "73            4  20435.0\n",
      "74            5  18941.0\n",
      "75            6  20534.0\n",
      "76            0  20554.0\n",
      "\n",
      "[77 rows x 2 columns]\n"
     ]
    }
   ],
   "source": [
    "#4- close \n",
    "df4 = pd.DataFrame({'week_of_day':weekDay, 'close':df['close']})\n",
    "print(df4)"
   ]
  },
  {
   "cell_type": "code",
   "execution_count": 24,
   "id": "f3dc6034",
   "metadata": {},
   "outputs": [
    {
     "data": {
      "image/png": "[encoded data removed]",
      "text/plain": [
       "<Figure size 432x288 with 1 Axes>"
      ]
     },
     "metadata": {
      "needs_background": "light"
     },
     "output_type": "display_data"
    },
    {
     "name": "stdout",
     "output_type": "stream",
     "text": [
      "                             close\n",
      "week_of_day                       \n",
      "0            32216.090909090908099\n",
      "1            34450.727272727272066\n",
      "2            34033.363636363639671\n",
      "3            33584.727272727272066\n",
      "4            33024.636363636360329\n",
      "5            32847.090909090911737\n",
      "6            32889.090909090911737\n"
     ]
    }
   ],
   "source": [
    "df4.groupby('week_of_day').mean().plot(kind='bar')\n",
    "plt.show()\n",
    "df4_mean_day = df4.groupby('week_of_day').mean()\n",
    "print(df4.groupby('week_of_day').mean())"
   ]
  },
  {
   "cell_type": "code",
   "execution_count": 25,
   "id": "5ab909f2",
   "metadata": {},
   "outputs": [
    {
     "data": {
      "text/plain": [
       "close    34450.727272727272066\n",
       "Name: 1, dtype: float64"
      ]
     },
     "execution_count": 25,
     "metadata": {},
     "output_type": "execute_result"
    }
   ],
   "source": [
    "df4_mean_day.loc[df4_mean_day['close'].idxmax()]"
   ]
  },
  {
   "cell_type": "code",
   "execution_count": 26,
   "id": "0878692e",
   "metadata": {},
   "outputs": [
    {
     "data": {
      "text/plain": [
       "close    32216.090909090908099\n",
       "Name: 0, dtype: float64"
      ]
     },
     "execution_count": 26,
     "metadata": {},
     "output_type": "execute_result"
    }
   ],
   "source": [
    "df4_mean_day.loc[df4_mean_day['close'].idxmin()]"
   ]
  },
  {
   "cell_type": "code",
   "execution_count": 27,
   "id": "2742c6ce",
   "metadata": {},
   "outputs": [
    {
     "name": "stdout",
     "output_type": "stream",
     "text": [
      "    week_of_day                 volume\n",
      "0             1  3.212534619022000e+09\n",
      "1             2  4.345412559223300e+09\n",
      "2             3  2.619970891866600e+09\n",
      "3             4  3.316097351169700e+09\n",
      "4             5  9.752946227337000e+08\n",
      "..          ...                    ...\n",
      "72            3  4.345880352410300e+09\n",
      "73            4  3.121447308380900e+09\n",
      "74            5  4.915980123121100e+09\n",
      "75            6  4.663178132851000e+09\n",
      "76            0  4.271118128074100e+09\n",
      "\n",
      "[77 rows x 2 columns]\n"
     ]
    }
   ],
   "source": [
    "# 5- Volume \n",
    "df5 = pd.DataFrame({'week_of_day':weekDay, 'volume':df['volume']})\n",
    "print(df5)"
   ]
  },
  {
   "cell_type": "code",
   "execution_count": 28,
   "id": "f4c0419f",
   "metadata": {},
   "outputs": [
    {
     "data": {
      "image/png": "[encoded data removed]",
      "text/plain": [
       "<Figure size 432x288 with 1 Axes>"
      ]
     },
     "metadata": {
      "needs_background": "light"
     },
     "output_type": "display_data"
    },
    {
     "name": "stdout",
     "output_type": "stream",
     "text": [
      "                            volume\n",
      "week_of_day                       \n",
      "0            4.949348471742300e+09\n",
      "1            4.021145304109272e+09\n",
      "2            4.539198254628109e+09\n",
      "3            3.863821636983973e+09\n",
      "4            3.161445881027309e+09\n",
      "5            1.756530222333318e+09\n",
      "6            2.311497278759446e+09\n"
     ]
    }
   ],
   "source": [
    "df5.groupby('week_of_day').mean().plot(kind='bar')\n",
    "plt.show()\n",
    "df5_mean_day = df5.groupby('week_of_day').mean()\n",
    "print(df5.groupby('week_of_day').mean())"
   ]
  },
  {
   "cell_type": "code",
   "execution_count": 29,
   "id": "a1958c6e",
   "metadata": {},
   "outputs": [
    {
     "data": {
      "text/plain": [
       "volume    4.949348471742300e+09\n",
       "Name: 0, dtype: float64"
      ]
     },
     "execution_count": 29,
     "metadata": {},
     "output_type": "execute_result"
    }
   ],
   "source": [
    "df5_mean_day.loc[df5_mean_day['volume'].idxmax()]"
   ]
  },
  {
   "cell_type": "code",
   "execution_count": 30,
   "id": "b2f0c6e8",
   "metadata": {},
   "outputs": [
    {
     "data": {
      "text/plain": [
       "volume    1.756530222333318e+09\n",
       "Name: 5, dtype: float64"
      ]
     },
     "execution_count": 30,
     "metadata": {},
     "output_type": "execute_result"
    }
   ],
   "source": [
    "df5_mean_day.loc[df5_mean_day['volume'].idxmin()]"
   ]
  },
  {
   "cell_type": "code",
   "execution_count": 31,
   "id": "68bf91ec",
   "metadata": {},
   "outputs": [
    {
     "name": "stdout",
     "output_type": "stream",
     "text": [
      "0     1894.0\n",
      "1     2399.0\n",
      "2     1188.0\n",
      "3     1880.0\n",
      "4      683.0\n",
      "       ...  \n",
      "72    2772.0\n",
      "73    1131.0\n",
      "74    3172.0\n",
      "75    2876.0\n",
      "76    1456.0\n",
      "Name: Difference_hl, Length: 77, dtype: float64\n"
     ]
    }
   ],
   "source": [
    "# 6- Difference (high - low)\n",
    "df['Difference_hl'] = df['high'] - df['low']\n",
    "print(df.Difference_hl)"
   ]
  },
  {
   "cell_type": "code",
   "execution_count": 32,
   "id": "4b53e12f",
   "metadata": {},
   "outputs": [
    {
     "name": "stdout",
     "output_type": "stream",
     "text": [
      "    week_of_day  Difference_hl\n",
      "0             1         1894.0\n",
      "1             2         2399.0\n",
      "2             3         1188.0\n",
      "3             4         1880.0\n",
      "4             5          683.0\n",
      "..          ...            ...\n",
      "72            3         2772.0\n",
      "73            4         1131.0\n",
      "74            5         3172.0\n",
      "75            6         2876.0\n",
      "76            0         1456.0\n",
      "\n",
      "[77 rows x 2 columns]\n"
     ]
    }
   ],
   "source": [
    "df6 = pd.DataFrame({'week_of_day':weekDay, 'Difference_hl':df['Difference_hl']})\n",
    "print(df6)"
   ]
  },
  {
   "cell_type": "code",
   "execution_count": 33,
   "id": "6ec5e9e5",
   "metadata": {},
   "outputs": [
    {
     "data": {
      "image/png": "[encoded data removed]",
      "text/plain": [
       "<Figure size 432x288 with 1 Axes>"
      ]
     },
     "metadata": {
      "needs_background": "light"
     },
     "output_type": "display_data"
    },
    {
     "name": "stdout",
     "output_type": "stream",
     "text": [
      "                    Difference_hl\n",
      "week_of_day                      \n",
      "0            2650.909090909090992\n",
      "1            1883.818181818181756\n",
      "2            2204.545454545454504\n",
      "3            2333.181818181818016\n",
      "4            1600.727272727272748\n",
      "5            1178.000000000000000\n",
      "6            1494.636363636363740\n"
     ]
    }
   ],
   "source": [
    "df6.groupby('week_of_day').mean().plot(kind='bar')\n",
    "plt.show()\n",
    "df6_mean_day = df6.groupby('week_of_day').mean()\n",
    "print(df6.groupby('week_of_day').mean())"
   ]
  },
  {
   "cell_type": "code",
   "execution_count": 34,
   "id": "c0090a4c",
   "metadata": {},
   "outputs": [
    {
     "data": {
      "text/plain": [
       "Difference_hl    2650.909090909090992\n",
       "Name: 0, dtype: float64"
      ]
     },
     "execution_count": 34,
     "metadata": {},
     "output_type": "execute_result"
    }
   ],
   "source": [
    "df6_mean_day.loc[df6_mean_day['Difference_hl'].idxmax()]"
   ]
  },
  {
   "cell_type": "code",
   "execution_count": 35,
   "id": "d35a3c52",
   "metadata": {},
   "outputs": [
    {
     "data": {
      "text/plain": [
       "Difference_hl    1178.0\n",
       "Name: 5, dtype: float64"
      ]
     },
     "execution_count": 35,
     "metadata": {},
     "output_type": "execute_result"
    }
   ],
   "source": [
    "df6_mean_day.loc[df6_mean_day['Difference_hl'].idxmin()]"
   ]
  },
  {
   "cell_type": "code",
   "execution_count": 36,
   "id": "73321d5e",
   "metadata": {},
   "outputs": [
    {
     "name": "stdout",
     "output_type": "stream",
     "text": [
      "0     1109.0\n",
      "1     2338.0\n",
      "2     -254.0\n",
      "3     1162.0\n",
      "4     -496.0\n",
      "       ...  \n",
      "72    2192.0\n",
      "73     -77.0\n",
      "74    1494.0\n",
      "75   -1593.0\n",
      "76     -19.0\n",
      "Name: Difference_oc, Length: 77, dtype: float64\n",
      "    week_of_day  Difference_oc\n",
      "0             1         1109.0\n",
      "1             2         2338.0\n",
      "2             3         -254.0\n",
      "3             4         1162.0\n",
      "4             5         -496.0\n",
      "..          ...            ...\n",
      "72            3         2192.0\n",
      "73            4          -77.0\n",
      "74            5         1494.0\n",
      "75            6        -1593.0\n",
      "76            0          -19.0\n",
      "\n",
      "[77 rows x 2 columns]\n"
     ]
    }
   ],
   "source": [
    "# 7- Difference : (open - close): \n",
    "df['Difference_oc'] = df['open'] - df['close']\n",
    "print(df.Difference_oc)\n",
    "df7 = pd.DataFrame({'week_of_day':weekDay, 'Difference_oc':df['Difference_oc']})\n",
    "print(df7)"
   ]
  },
  {
   "cell_type": "code",
   "execution_count": 37,
   "id": "8f72a6e2",
   "metadata": {},
   "outputs": [
    {
     "data": {
      "image/png": "[encoded data removed]",
      "text/plain": [
       "<Figure size 432x288 with 1 Axes>"
      ]
     },
     "metadata": {
      "needs_background": "light"
     },
     "output_type": "display_data"
    },
    {
     "name": "stdout",
     "output_type": "stream",
     "text": [
      "                   Difference_oc\n",
      "week_of_day                     \n",
      "0            671.636363636363626\n",
      "1            134.363636363636374\n",
      "2            417.363636363636374\n",
      "3            447.636363636363626\n",
      "4            560.090909090909122\n",
      "5            177.545454545454533\n",
      "6            -40.636363636363633\n"
     ]
    }
   ],
   "source": [
    "df7.groupby('week_of_day').mean().plot(kind='bar')\n",
    "plt.show()\n",
    "df7_mean_day = df7.groupby('week_of_day').mean()\n",
    "print(df7.groupby('week_of_day').mean())"
   ]
  },
  {
   "cell_type": "code",
   "execution_count": 38,
   "id": "9d64fb16",
   "metadata": {},
   "outputs": [
    {
     "data": {
      "text/plain": [
       "Difference_oc    671.636363636363626\n",
       "Name: 0, dtype: float64"
      ]
     },
     "execution_count": 38,
     "metadata": {},
     "output_type": "execute_result"
    }
   ],
   "source": [
    "df7_mean_day.loc[df7_mean_day['Difference_oc'].idxmax()]"
   ]
  },
  {
   "cell_type": "code",
   "execution_count": 39,
   "id": "31233c6e",
   "metadata": {},
   "outputs": [
    {
     "data": {
      "text/plain": [
       "Difference_oc   -40.636363636363633\n",
       "Name: 6, dtype: float64"
      ]
     },
     "execution_count": 39,
     "metadata": {},
     "output_type": "execute_result"
    }
   ],
   "source": [
    "df7_mean_day.loc[df7_mean_day['Difference_oc'].idxmin()]"
   ]
  },
  {
   "cell_type": "code",
   "execution_count": 40,
   "id": "41caba58",
   "metadata": {},
   "outputs": [
    {
     "data": {
      "text/html": [
       "<div>\n",
       "<style scoped>\n",
       "    .dataframe tbody tr th:only-of-type {\n",
       "        vertical-align: middle;\n",
       "    }\n",
       "\n",
       "    .dataframe tbody tr th {\n",
       "        vertical-align: top;\n",
       "    }\n",
       "\n",
       "    .dataframe thead th {\n",
       "        text-align: right;\n",
       "    }\n",
       "</style>\n",
       "<table border=\"1\" class=\"dataframe\">\n",
       "  <thead>\n",
       "    <tr style=\"text-align: right;\">\n",
       "      <th></th>\n",
       "      <th>week_of_day</th>\n",
       "      <th>Difference_oc</th>\n",
       "    </tr>\n",
       "  </thead>\n",
       "  <tbody>\n",
       "    <tr>\n",
       "      <th>count</th>\n",
       "      <td>77.000000000000000</td>\n",
       "      <td>77.000000000000000</td>\n",
       "    </tr>\n",
       "    <tr>\n",
       "      <th>mean</th>\n",
       "      <td>3.000000000000000</td>\n",
       "      <td>338.285714285714278</td>\n",
       "    </tr>\n",
       "    <tr>\n",
       "      <th>std</th>\n",
       "      <td>2.013114894621608</td>\n",
       "      <td>1270.559262036157406</td>\n",
       "    </tr>\n",
       "    <tr>\n",
       "      <th>min</th>\n",
       "      <td>0.000000000000000</td>\n",
       "      <td>-2285.000000000000000</td>\n",
       "    </tr>\n",
       "    <tr>\n",
       "      <th>25%</th>\n",
       "      <td>1.000000000000000</td>\n",
       "      <td>-542.000000000000000</td>\n",
       "    </tr>\n",
       "    <tr>\n",
       "      <th>50%</th>\n",
       "      <td>3.000000000000000</td>\n",
       "      <td>138.000000000000000</td>\n",
       "    </tr>\n",
       "    <tr>\n",
       "      <th>75%</th>\n",
       "      <td>5.000000000000000</td>\n",
       "      <td>1109.000000000000000</td>\n",
       "    </tr>\n",
       "    <tr>\n",
       "      <th>max</th>\n",
       "      <td>6.000000000000000</td>\n",
       "      <td>4096.000000000000000</td>\n",
       "    </tr>\n",
       "  </tbody>\n",
       "</table>\n",
       "</div>"
      ],
      "text/plain": [
       "              week_of_day         Difference_oc\n",
       "count  77.000000000000000    77.000000000000000\n",
       "mean    3.000000000000000   338.285714285714278\n",
       "std     2.013114894621608  1270.559262036157406\n",
       "min     0.000000000000000 -2285.000000000000000\n",
       "25%     1.000000000000000  -542.000000000000000\n",
       "50%     3.000000000000000   138.000000000000000\n",
       "75%     5.000000000000000  1109.000000000000000\n",
       "max     6.000000000000000  4096.000000000000000"
      ]
     },
     "execution_count": 40,
     "metadata": {},
     "output_type": "execute_result"
    }
   ],
   "source": [
    "df7.describe()"
   ]
  },
  {
   "cell_type": "code",
   "execution_count": 41,
   "id": "bb6bcd17",
   "metadata": {},
   "outputs": [
    {
     "data": {
      "text/html": [
       "<div>\n",
       "<style scoped>\n",
       "    .dataframe tbody tr th:only-of-type {\n",
       "        vertical-align: middle;\n",
       "    }\n",
       "\n",
       "    .dataframe tbody tr th {\n",
       "        vertical-align: top;\n",
       "    }\n",
       "\n",
       "    .dataframe thead th {\n",
       "        text-align: right;\n",
       "    }\n",
       "</style>\n",
       "<table border=\"1\" class=\"dataframe\">\n",
       "  <thead>\n",
       "    <tr style=\"text-align: right;\">\n",
       "      <th></th>\n",
       "      <th>week_of_day</th>\n",
       "      <th>close</th>\n",
       "    </tr>\n",
       "  </thead>\n",
       "  <tbody>\n",
       "    <tr>\n",
       "      <th>0</th>\n",
       "      <td>1.0</td>\n",
       "      <td>45504.000000000000000</td>\n",
       "    </tr>\n",
       "    <tr>\n",
       "      <th>1</th>\n",
       "      <td>1.5</td>\n",
       "      <td>44335.000000000000000</td>\n",
       "    </tr>\n",
       "    <tr>\n",
       "      <th>2</th>\n",
       "      <td>2.0</td>\n",
       "      <td>44030.000000000000000</td>\n",
       "    </tr>\n",
       "    <tr>\n",
       "      <th>3</th>\n",
       "      <td>2.5</td>\n",
       "      <td>43587.000000000000000</td>\n",
       "    </tr>\n",
       "    <tr>\n",
       "      <th>4</th>\n",
       "      <td>3.0</td>\n",
       "      <td>43420.400000000001455</td>\n",
       "    </tr>\n",
       "    <tr>\n",
       "      <th>...</th>\n",
       "      <td>...</td>\n",
       "      <td>...</td>\n",
       "    </tr>\n",
       "    <tr>\n",
       "      <th>72</th>\n",
       "      <td>2.7</td>\n",
       "      <td>26280.900000000001455</td>\n",
       "    </tr>\n",
       "    <tr>\n",
       "      <th>73</th>\n",
       "      <td>3.0</td>\n",
       "      <td>25212.599999999998545</td>\n",
       "    </tr>\n",
       "    <tr>\n",
       "      <th>74</th>\n",
       "      <td>3.3</td>\n",
       "      <td>24088.099999999998545</td>\n",
       "    </tr>\n",
       "    <tr>\n",
       "      <th>75</th>\n",
       "      <td>3.6</td>\n",
       "      <td>23133.299999999999272</td>\n",
       "    </tr>\n",
       "    <tr>\n",
       "      <th>76</th>\n",
       "      <td>3.2</td>\n",
       "      <td>22283.099999999998545</td>\n",
       "    </tr>\n",
       "  </tbody>\n",
       "</table>\n",
       "<p>77 rows × 2 columns</p>\n",
       "</div>"
      ],
      "text/plain": [
       "    week_of_day                  close\n",
       "0           1.0  45504.000000000000000\n",
       "1           1.5  44335.000000000000000\n",
       "2           2.0  44030.000000000000000\n",
       "3           2.5  43587.000000000000000\n",
       "4           3.0  43420.400000000001455\n",
       "..          ...                    ...\n",
       "72          2.7  26280.900000000001455\n",
       "73          3.0  25212.599999999998545\n",
       "74          3.3  24088.099999999998545\n",
       "75          3.6  23133.299999999999272\n",
       "76          3.2  22283.099999999998545\n",
       "\n",
       "[77 rows x 2 columns]"
      ]
     },
     "execution_count": 41,
     "metadata": {},
     "output_type": "execute_result"
    }
   ],
   "source": [
    "# SMA over whole period \n",
    "df_high2_sma10= df4.rolling(10, min_periods=1).mean()\n",
    "df_high2_sma20= df4.rolling(20, min_periods=1).mean()\n",
    "df4_mean = df4.mean()\n",
    "df_high2_sma10"
   ]
  },
  {
   "cell_type": "code",
   "execution_count": 44,
   "id": "a0d6230e",
   "metadata": {},
   "outputs": [],
   "source": [
    "# Grean = Avg Air Temp, RED = 10 yrs, ORANG colors for the line plot\n",
    "\n",
    "\n",
    "df_days = pd.DataFrame({ 'mean' : df4_mean , 'ma' : df_high2_sma10[\"close\"] })\n",
    "\n"
   ]
  },
  {
   "cell_type": "code",
   "execution_count": 45,
   "id": "6210505a",
   "metadata": {},
   "outputs": [],
   "source": [
    "from statsmodels.graphics.tsaplots import plot_acf\n",
    "\n"
   ]
  },
  {
   "cell_type": "code",
   "execution_count": null,
   "id": "d19f29fc",
   "metadata": {},
   "outputs": [],
   "source": []
  }
 ],
 "metadata": {
  "kernelspec": {
   "display_name": "Python 3",
   "language": "python",
   "name": "python3"
  },
  "language_info": {
   "codemirror_mode": {
    "name": "ipython",
    "version": 3
   },
   "file_extension": ".py",
   "mimetype": "text/x-python",
   "name": "python",
   "nbconvert_exporter": "python",
   "pygments_lexer": "ipython3",
   "version": "3.8.13"
  }
 },
 "nbformat": 4,
 "nbformat_minor": 5
}
